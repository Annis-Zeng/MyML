{
 "cells": [
  {
   "cell_type": "markdown",
   "metadata": {
    "colab_type": "text",
    "id": "F1VEPFjc9EXJ"
   },
   "source": [
    "# 初始化"
   ]
  },
  {
   "cell_type": "code",
   "execution_count": 0,
   "metadata": {
    "colab": {},
    "colab_type": "code",
    "id": "CB9e30Sb8-ED"
   },
   "outputs": [],
   "source": [
    "#@markdown - **挂载** \n",
    "from google.colab import drive\n",
    "drive.mount('GoogleDrive')"
   ]
  },
  {
   "cell_type": "code",
   "execution_count": 0,
   "metadata": {
    "colab": {},
    "colab_type": "code",
    "id": "1RwrNL4Q9Jo1"
   },
   "outputs": [],
   "source": [
    "# #@markdown - **卸载**\n",
    "# !fusermount -u GoogleDrive"
   ]
  },
  {
   "cell_type": "markdown",
   "metadata": {
    "colab_type": "text",
    "id": "QYbaRGXL9LWv"
   },
   "source": [
    "# 代码区"
   ]
  },
  {
   "cell_type": "code",
   "execution_count": 0,
   "metadata": {
    "colab": {},
    "colab_type": "code",
    "id": "zJ01w9Rl9Ps0"
   },
   "outputs": [],
   "source": [
    "#@title Expectation Maximization algorithm { display-mode: \"both\" }\n",
    "# 该程序实现 EM 算法对伯努利分布的参数估计\n",
    "# 数据为 1 维，多维数据请参考混合高斯模型\n",
    "#@markdown [参考程序](https://github.com/wzyonggege/statistical-learning-method/blob/master/EM/em.ipynb)\n",
    "# coding: utf-8\n",
    "import numpy as np\n"
   ]
  },
  {
   "cell_type": "markdown",
   "metadata": {
    "colab_type": "text",
    "id": "54RRWh01-HWn"
   },
   "source": [
    "### 最大似然函数 (Maximum likehood function):\n",
    "> $P(y|\\pi,\\theta)=\\sum_{k=1}^{K}\\pi_{k}\\prod_{d=1}^{D}\\theta_{d}^{y_{d}}(1-\\theta_{d})^{1-y_{d}}$\n",
    "\n",
    "> 当 $K=2$ 时，令 $\\pi=[\\pi, 1-\\pi]$, $\\theta=[p, q]$, $Y=[y_{1},...,y_{N}]$ :\n",
    "\n",
    "> $P(Y|\\pi,\\theta)=\\sum_{n=1}^{N}\\left [\\prod_{d=1}^{D}\\pi p^{y_{d}}(1-p)^{1-y_{d}}+\\prod_{d=1}^{D}(1-\\pi) q^{y_{d}}(1-q)^{1-y_{d}}  \\right ]$\n",
    "\n",
    "### 特别的，当 $D=1$ 时，\n",
    "### E-step:\n",
    "> $\\mu_{i+1}=\\frac{\\pi (p_{i})^{y_{i}}(1-(p_{i}))^{1-y_{i}}}{\\pi (p_{i})^{y_{i}}(1-(p_{i}))^{1-y_{i}}+(1-\\pi) (q_{i})^{y_{i}}(1-(q_{i}))^{1-y_{i}}} $\n",
    "\n",
    "### M-step:\n",
    "\n",
    "> $\\pi_{i+1} =\\frac{1}{N} \\sum_{j=1}^{N}\\mu_{i+1,j}$\n",
    "\n",
    "> $p_{i+1}=\\frac{\\sum_{j=1}^{N}\\mu_{i+1,j} (y_{j})}{\\sum_{j=1}^{N}\\mu_{i+1,j}}$\n",
    "\n",
    "> $q_{i+1}=\\frac{\\sum_{j=1}^{N}(1-\\mu_{i+1,j}(y_{j}))}{\\sum_{j=1}^{N}(1-\\mu_{i+1,j})}$\n"
   ]
  },
  {
   "cell_type": "code",
   "execution_count": 0,
   "metadata": {
    "cellView": "code",
    "colab": {},
    "colab_type": "code",
    "id": "mBvOWnbP9u06"
   },
   "outputs": [],
   "source": [
    "#@markdown - **EM 类**\n",
    "class EM:\n",
    "    def __init__(self, prob):\n",
    "        self.pro_A, self.pro_B, self.pro_C = prob\n",
    "        \n",
    "    #@markdown - **e_step**\n",
    "    def pro_1(self, x):\n",
    "        return self.pro_A * np.power(self.pro_B, x) * np.power((1 - self.pro_B), 1 - x)\n",
    "    def pro_2(self, x):\n",
    "        return (1 - self.pro_A) * np.power(self.pro_C, x) * np.power((1 - self.pro_C), 1 - x)\n",
    "    def pmf(self, x):\n",
    "        return self.pro_1(x) / (self.pro_1(x) + self.pro_2(x))\n",
    "    \n",
    "    #@markdown - **m_step**\n",
    "    def fit(self, data, max_error=1e-5):\n",
    "        count = data.shape[0]\n",
    "        print('init prob:{}, {}, {}'.format(self.pro_A, self.pro_B, self.pro_C))\n",
    "        d = 0\n",
    "        while True:\n",
    "            d += 1\n",
    "            PMF = [self.pmf(x) for x in data]\n",
    "            pro_A = 1/ count * sum(PMF)\n",
    "            pro_B = sum([PMF[k] * data[k] for k in range(count)]) / sum([PMF[k] for k in range(count)])\n",
    "            pro_C = sum([(1 - PMF[k]) * data[k] for k in range(count)]) / sum([(1 - PMF[k]) for k in range(count)])\n",
    "            error = abs(pro_A - self.pro_A) + abs(pro_B - self.pro_B) + abs(pro_C - self.pro_C)\n",
    "            print_list = [d, pro_A, pro_B, pro_C, error]\n",
    "            print('Step {0[0]},  pro_a:{0[1]:.3f}, pro_b:{0[2]:.3f}, pro_c:{0[3]:.3f}, error: {0[4]:.6f}.'.format(print_list))\n",
    "            self.pro_A = pro_A\n",
    "            self.pro_B = pro_B\n",
    "            self.pro_C = pro_C\n",
    "            if error < max_error: break\n",
    "    def mlf(self, y):\n",
    "        return self.pro_1(y) + self.pro_2(y)\n",
    "        "
   ]
  },
  {
   "cell_type": "code",
   "execution_count": 3,
   "metadata": {
    "colab": {
     "base_uri": "https://localhost:8080/",
     "height": 67
    },
    "colab_type": "code",
    "executionInfo": {
     "elapsed": 589,
     "status": "ok",
     "timestamp": 1557666632948,
     "user": {
      "displayName": "Лянпэн К",
      "photoUrl": "https://lh6.googleusercontent.com/-GXVG-PbMfAw/AAAAAAAAAAI/AAAAAAAAADo/wvm2q-yqQzs/s64/photo.jpg",
      "userId": "04289897042674768581"
     },
     "user_tz": -480
    },
    "id": "DkZcaLJc94an",
    "outputId": "c894f3d1-5494-4d89-e878-01c674f7b930"
   },
   "outputs": [
    {
     "name": "stdout",
     "output_type": "stream",
     "text": [
      "init prob:0.2, 0.3, 0.4\n",
      "Step 1,  pro_a:0.212, pro_b:0.149, pro_c:0.214, error: 0.349631.\n",
      "Step 2,  pro_a:0.212, pro_b:0.149, pro_c:0.214, error: 0.000000.\n"
     ]
    }
   ],
   "source": [
    "#@markdown - **生成一维伯努利分布的数据**\n",
    "data = np.random.binomial(1, 0.2, size=[200, ])\n",
    "em = EM(prob=[0.2, 0.3, 0.4])\n",
    "em.fit(data)"
   ]
  },
  {
   "cell_type": "code",
   "execution_count": 4,
   "metadata": {
    "colab": {
     "base_uri": "https://localhost:8080/",
     "height": 185
    },
    "colab_type": "code",
    "executionInfo": {
     "elapsed": 1112,
     "status": "ok",
     "timestamp": 1557666636031,
     "user": {
      "displayName": "Лянпэн К",
      "photoUrl": "https://lh6.googleusercontent.com/-GXVG-PbMfAw/AAAAAAAAAAI/AAAAAAAAADo/wvm2q-yqQzs/s64/photo.jpg",
      "userId": "04289897042674768581"
     },
     "user_tz": -480
    },
    "id": "pyOf2xF8KmX0",
    "outputId": "0bb4fbf1-d121-42f1-f5fc-a73f9760552f"
   },
   "outputs": [
    {
     "data": {
      "text/plain": [
       "array([0, 0, 0, 0, 0, 0, 0, 0, 0, 0, 0, 1, 1, 0, 0, 0, 0, 1, 0, 0, 1, 0,\n",
       "       1, 0, 0, 1, 0, 0, 0, 0, 0, 1, 0, 0, 0, 0, 0, 0, 0, 1, 0, 0, 0, 0,\n",
       "       0, 0, 0, 0, 0, 1, 1, 0, 1, 1, 0, 0, 0, 0, 0, 0, 1, 0, 0, 1, 0, 1,\n",
       "       0, 0, 0, 1, 0, 0, 0, 0, 0, 0, 0, 0, 0, 0, 1, 1, 0, 0, 0, 0, 1, 0,\n",
       "       1, 0, 0, 0, 0, 0, 0, 0, 0, 0, 0, 0, 0, 1, 1, 0, 0, 0, 0, 1, 0, 1,\n",
       "       1, 0, 0, 0, 0, 0, 0, 0, 1, 1, 0, 0, 0, 0, 0, 0, 1, 0, 1, 0, 0, 0,\n",
       "       0, 0, 0, 0, 0, 0, 0, 1, 1, 0, 0, 0, 0, 0, 0, 0, 0, 0, 0, 0, 0, 0,\n",
       "       1, 0, 0, 0, 0, 0, 0, 0, 0, 0, 0, 1, 1, 0, 0, 0, 0, 0, 1, 0, 0, 0,\n",
       "       0, 0, 1, 0, 0, 0, 0, 0, 0, 0, 1, 0, 0, 1, 0, 0, 1, 0, 0, 0, 0, 1,\n",
       "       0, 0])"
      ]
     },
     "execution_count": 4,
     "metadata": {
      "tags": []
     },
     "output_type": "execute_result"
    }
   ],
   "source": [
    "data"
   ]
  },
  {
   "cell_type": "code",
   "execution_count": 5,
   "metadata": {
    "colab": {
     "base_uri": "https://localhost:8080/",
     "height": 34
    },
    "colab_type": "code",
    "executionInfo": {
     "elapsed": 682,
     "status": "ok",
     "timestamp": 1557666639373,
     "user": {
      "displayName": "Лянпэн К",
      "photoUrl": "https://lh6.googleusercontent.com/-GXVG-PbMfAw/AAAAAAAAAAI/AAAAAAAAADo/wvm2q-yqQzs/s64/photo.jpg",
      "userId": "04289897042674768581"
     },
     "user_tz": -480
    },
    "id": "H9YyosT6KOz1",
    "outputId": "651980e5-ea04-4a34-ff03-7d5a11712f86"
   },
   "outputs": [
    {
     "data": {
      "text/plain": [
       "0.8000000000000007"
      ]
     },
     "execution_count": 5,
     "metadata": {
      "tags": []
     },
     "output_type": "execute_result"
    }
   ],
   "source": [
    "em.mlf(0)"
   ]
  },
  {
   "cell_type": "code",
   "execution_count": 6,
   "metadata": {
    "colab": {
     "base_uri": "https://localhost:8080/",
     "height": 34
    },
    "colab_type": "code",
    "executionInfo": {
     "elapsed": 614,
     "status": "ok",
     "timestamp": 1557666641905,
     "user": {
      "displayName": "Лянпэн К",
      "photoUrl": "https://lh6.googleusercontent.com/-GXVG-PbMfAw/AAAAAAAAAAI/AAAAAAAAADo/wvm2q-yqQzs/s64/photo.jpg",
      "userId": "04289897042674768581"
     },
     "user_tz": -480
    },
    "id": "Hhj_iRHWKSL9",
    "outputId": "879b65f3-1a78-460a-e7e3-f945b86655fb"
   },
   "outputs": [
    {
     "data": {
      "text/plain": [
       "0.19999999999999934"
      ]
     },
     "execution_count": 6,
     "metadata": {
      "tags": []
     },
     "output_type": "execute_result"
    }
   ],
   "source": [
    "em.mlf(1)"
   ]
  }
 ],
 "metadata": {
  "colab": {
   "collapsed_sections": [],
   "name": "EM.ipynb",
   "provenance": [],
   "version": "0.3.2"
  },
  "kernelspec": {
   "display_name": "Python 3",
   "language": "python",
   "name": "python3"
  },
  "language_info": {
   "codemirror_mode": {
    "name": "ipython",
    "version": 3
   },
   "file_extension": ".py",
   "mimetype": "text/x-python",
   "name": "python",
   "nbconvert_exporter": "python",
   "pygments_lexer": "ipython3",
   "version": "3.6.6"
  }
 },
 "nbformat": 4,
 "nbformat_minor": 1
}
